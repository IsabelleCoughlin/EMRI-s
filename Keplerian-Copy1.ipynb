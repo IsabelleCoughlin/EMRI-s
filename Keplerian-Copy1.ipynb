{
 "cells": [
  {
   "cell_type": "code",
   "execution_count": 3,
   "id": "3f00e570-6b34-4022-9443-9c2742d57234",
   "metadata": {},
   "outputs": [],
   "source": [
    "import numpy as np\n",
    "from scipy.integrate import solve_ivp\n",
    "from scipy.special import jv\n",
    "import matplotlib.pyplot as plt\n",
    "import math\n",
    "import time\n",
    "import numpy as np\n",
    "import matplotlib.pyplot as plt\n",
    "\n",
    "from few.waveform import GenerateEMRIWaveform\n",
    "from few.utils.constants import MTSUN_SI\n",
    "from few.utils.utility import get_p_at_t\n",
    "from few.utils.geodesic import get_fundamental_frequencies\n",
    "from few.utils.fdutils import GetFDWaveformFromFD, GetFDWaveformFromTD\n",
    "from few.trajectory.inspiral import EMRIInspiral\n",
    "from few.trajectory.ode.flux import KerrEccEqFlux\n",
    "\n",
    "from scipy.interpolate import CubicSpline\n",
    "from few import get_file_manager\n",
    "from scipy.integrate import cumulative_trapezoid\n"
   ]
  },
  {
   "cell_type": "code",
   "execution_count": 4,
   "id": "14883b91-2ebc-4e83-bfaa-6db98b6878b0",
   "metadata": {},
   "outputs": [],
   "source": [
    "# produce sensitivity function\n",
    "traj_module = EMRIInspiral(func=KerrEccEqFlux)\n",
    "\n",
    "# import ASD\n",
    "data = np.loadtxt(get_file_manager().get_file(\"LPA.txt\"), skiprows=1)\n",
    "frequencies = data[:,0]\n",
    "psd_values  = data[:, 1] ** 2\n",
    "# define PSD function\n",
    "get_sensitivity = CubicSpline(frequencies, psd_values)\n",
    "f_plots = np.logspace(-5, 0, 2300)\n",
    "#f = freq >= 0.0\n",
    "#print(\"f, ASD, PSD:\", data[10,0], np.sqrt(get_sensitivity(data[10,0])), get_sensitivity(data[10,0]))\n"
   ]
  },
  {
   "cell_type": "code",
   "execution_count": 5,
   "id": "7edb0569-ea4e-4aab-9293-a6df8c45e085",
   "metadata": {},
   "outputs": [],
   "source": [
    "def nu_naught(a):\n",
    "    \"\"\"\n",
    "    Orbital frequency (Hz) in geometrized units where G = c = 1.\n",
    "    Input:\n",
    "        a : semimajor axis in geometric seconds (a = a_SI / c)\n",
    "    Returns:\n",
    "        nu : orbital frequency in Hz (1/s)\n",
    "    \"\"\"\n",
    "    return (1.0 / (2.0 * np.pi)) * np.sqrt(Mtot / a**3)"
   ]
  },
  {
   "cell_type": "code",
   "execution_count": 6,
   "id": "9c3f0c90-4de6-4c77-bcaf-9c264a54d17b",
   "metadata": {},
   "outputs": [],
   "source": [
    "# Physical constants - everything is in metric units\n",
    "G   = 6.67430e-11 # N(m/kg)²\n",
    "c   = 299792458.0 # m/s\n",
    "Msun = 1.98847e30 # kg\n",
    "pc   = 3.085677581491367e16 # Meters\n",
    "yr   = 365.25*24*3600 # seconds\n",
    "\n",
    "# System parameters\n",
    "Mbh = 4e6 * Msun *G/c**3       # central black hole mass (kg)\n",
    "m   = 0.05 * Msun  *G/c**3     # brown dwarf mass (kg)\n",
    "D   = 8000 * pc /c        # Distance to GC (m)\n",
    "Mtot = Mbh + m # Total mass (kg)\n",
    "mu = (Mbh*m)/Mtot  # Since EMRI, probably can just be equal to m\n",
    "S_spin = 0.0 # Current Approximation, aka a_star = S/M^2\n",
    "\n",
    "# Initial orbital parameters\n",
    "a0 = 0.002 * pc/c         # semi-major axis (m)\n",
    "e0 = 0.999             # initial eccentricity (unitless)\n",
    "#nu_0 = nu_naught(a0)     # Hz (1/s)\n",
    "phi_0 = 0.0\n",
    "gamma_0 = 0.0"
   ]
  },
  {
   "cell_type": "code",
   "execution_count": 7,
   "id": "98f8cc81-fea4-4314-996b-609651ac77aa",
   "metadata": {},
   "outputs": [],
   "source": [
    "plunge_radius = 8.0*Mbh"
   ]
  },
  {
   "cell_type": "code",
   "execution_count": 8,
   "id": "814e50fe-290d-471e-87a1-473e1abd64ed",
   "metadata": {},
   "outputs": [],
   "source": [
    "transition_radius = plunge_radius / 10.0 # seconds"
   ]
  },
  {
   "cell_type": "code",
   "execution_count": 9,
   "id": "029771d9-41c7-4720-8058-9b06230afca7",
   "metadata": {},
   "outputs": [],
   "source": [
    "def g_n_e(n, e):\n",
    "    ne = n*e\n",
    "    Jn_2 = jv(n-2, ne)\n",
    "    Jn_1 = jv(n-1, ne)\n",
    "    Jn   = jv(n,   ne)\n",
    "    Jn1  = jv(n+1, ne)\n",
    "    Jn2  = jv(n+2, ne)\n",
    "    term1 = Jn_2 - 2*e*Jn_1 + (2.0/n)*Jn + 2*e*Jn1 - Jn2\n",
    "    term2 = Jn_2 - 2*Jn + Jn2\n",
    "    return (n**4/32.0) * (term1**2 + (1 - e**2)*term2**2 + (4.0/(3*n**2))*(Jn**2))\n"
   ]
  },
  {
   "cell_type": "code",
   "execution_count": 10,
   "id": "abb1b050-da81-42bb-8e40-c17d64fae494",
   "metadata": {},
   "outputs": [],
   "source": [
    "# Peters da/dt and de/dt (use a and e directly)\n",
    "def da_dt(e, a):\n",
    "    \"\"\"\n",
    "    Keplerian semi-major axis derivative in geometric units\n",
    "    \"\"\"\n",
    "    one_e2 = np.maximum(1e-16, 1 - e**2)\n",
    "    e = float(np.minimum(e, 1 - 1e-16))\n",
    "    a = float(np.maximum(a, plunge_radius))\n",
    "    return -(64/5) * m * Mbh * Mtot / ( a**3 * one_e2**(7/2)) * (1 + (73/24)*e**2 + (37/96)*e**4)\n",
    "\n",
    "def de_dt(e, a):\n",
    "    \"\"\"\n",
    "    Keplerian eccentricity derivative in geometric units\n",
    "    \"\"\"\n",
    "    one_e2 = np.maximum(1e-16, 1 - e**2)\n",
    "    a = np.maximum(a, plunge_radius)\n",
    "    e = np.minimum(e, 1 - 1e-16)\n",
    "    return -(304/15) * e * m * Mbh * Mtot / (a**4 * one_e2**(5/2)) * (1 + (121/304)*e**2)\n",
    "\n",
    "\n",
    "# ODE rhse\n",
    "def rhs(t, y):\n",
    "    e, a = y\n",
    "    return [de_dt(e, a), da_dt(e, a)]"
   ]
  },
  {
   "cell_type": "code",
   "execution_count": 11,
   "id": "41f3ee1b-a316-4999-89ed-da2771b21209",
   "metadata": {},
   "outputs": [],
   "source": [
    "def de_dt_val(phi, nu, gamma, e):\n",
    "    \"\"\"\n",
    "    Post-Newtonian eccentricity evolution\n",
    "    \"\"\"\n",
    "    mu = m * Mbh / Mtot  # reduced mass\n",
    "    one_minus_e2 = max(1e-16, 1 - e**2)\n",
    "    lambda_var = 0\n",
    "    S = 0\n",
    "    x = (2 * np.pi * Mtot * nu)  # dimensionless PN parameter\n",
    "    x23 = x**(2/3)\n",
    "    x83 = x**(8/3)\n",
    "    x113 = x**(11/3)\n",
    "\n",
    "    term1 = (304 + 121*e**2) * (1 - e**2) * (1 + 12*x23)\n",
    "    term2 = (1/56) * x23 * (8*16705 + 12*9082*e**2 - 25211*e**4)\n",
    "    first_bracket = term1 - term2\n",
    "\n",
    "    first_part = (\n",
    "        - (e / 15.0)\n",
    "        * (mu / Mtot**2)\n",
    "        * one_minus_e2**(-3.5)\n",
    "        * x83\n",
    "        * first_bracket\n",
    "    )\n",
    "\n",
    "    spin_part = (\n",
    "        e * (mu / Mtot**2) * (S / Mtot**2) * np.cos(lambda_var)\n",
    "        * x113 * one_minus_e2**(-4)\n",
    "        * ((1364/5) + (5032/15)*e**2 + (263/10)*e**4)\n",
    "    )\n",
    "\n",
    "    return first_part + spin_part\n",
    "\n",
    "def dphi_dt(phi, nu, gamma, e):\n",
    "    \"\"\"\n",
    "    Post-Newtonian  evolution\n",
    "    \"\"\"\n",
    "    return 2*np.pi*nu\n",
    "\n",
    "def dgamma_dt(phi, nu, gamma, e):\n",
    "    \"\"\"\n",
    "    Post-Newtonian eccentricity evolution\n",
    "\n",
    "    Here we assume cos(lambda) = 1 and spin S/M^2 = 0\n",
    "    \"\"\"\n",
    "    lambda_var = 0\n",
    "    a_star = 0.0\n",
    "\n",
    "    # Avoid division by zero\n",
    "    zero_term = np.maximum(1e-16, (1-e**2))\n",
    "\n",
    "    first_term = 6*np.pi*nu * (2*np.pi*nu*Mbh)**(2/3) * (zero_term)**(-1)\n",
    "    second_term = 1 + (1/4)*(2*np.pi*nu*Mbh)**(2/3) * (zero_term)**(-1) * (26-15*e**2)\n",
    "    \n",
    "    # Let spin factor be S/M**2 = 0.0\n",
    "    third_term = -12*np.pi*nu*np.cos(lambda_var)*(a_star)*(2*np.pi*Mbh*nu)*(zero_term)**(-3/2)\n",
    "    return (first_term*second_term - third_term)\n",
    "\n",
    "def dnu_dt(phi, nu, gamma, e):    \n",
    "    \"\"\"\n",
    "    Post-Newtonian orbital frequency evolution\n",
    "\n",
    "    Here we assume cos(lambda) = 1 and spin S/M^2 = 0\n",
    "    \"\"\"\n",
    "    lambda_var = 0\n",
    "    a_star = 0.0\n",
    "    zero_term = np.maximum(1e-16,(1-e**2))\n",
    "    first_term = (96/(10*np.pi))*(m/(Mbh**3))*((2*np.pi*Mbh*nu)**(11/3)) * ((zero_term)**(-9/2))\n",
    "    a1 = 1 + (73/24)*(e**2) + (37/96)*(e**4)\n",
    "    b1 = (1273/336) - (2561/224)*(e**2) - (3885/128)*(e**4) - (13147/5376)*(e**6)\n",
    "    c1 = (73/12) + (1211/24)*(e**2) + (3143/96)*(e**4) + (65/64)*(e**6)\n",
    "    return first_term*(a1*(zero_term) + ((2*np.pi*Mbh*nu)**(2/3))*b1 - ((2*np.pi*Mbh*nu)*(a_star)*np.cos(lambda_var)*((zero_term)**(-1/2)))*c1)\n",
    "\n",
    "# ODE rh\n",
    "def pn_equations(t, y):\n",
    "    phi, nu, gamma, e = y\n",
    "    dphi = dphi_dt(phi, nu, gamma, e)\n",
    "    dnu = dnu_dt(phi, nu, gamma, e)\n",
    "    dgamma = dgamma_dt(phi, nu, gamma, e)\n",
    "    decc = de_dt_val(phi, nu, gamma, e)\n",
    "    \n",
    "    return [dphi, dnu, dgamma, decc]"
   ]
  },
  {
   "cell_type": "code",
   "execution_count": 12,
   "id": "362d07ad-3d6f-48be-905e-ddfbc7f94c1f",
   "metadata": {},
   "outputs": [],
   "source": [
    "# Plunge event\n",
    "def stop_plunge(t, y):\n",
    "    phi, nu, gamma, e = y\n",
    "    a = (Mbh/(2*np.pi*nu))**(1/3) \n",
    "    return a*(1 - e) - plunge_radius\n",
    "stop_plunge.terminal = True\n",
    "stop_plunge.direction = -1"
   ]
  },
  {
   "cell_type": "code",
   "execution_count": 13,
   "id": "0d8dc4da-d971-45e9-982c-dc867fda11e8",
   "metadata": {},
   "outputs": [],
   "source": [
    "# Transition to PN Equations about 10 schwarzchild radii away\n",
    "def stop_transition(t, y):\n",
    "    e, a = y\n",
    "    return a*(1 - e) - transition_radius\n",
    "stop_transition.terminal = True\n",
    "stop_transition.direction = -1"
   ]
  },
  {
   "cell_type": "code",
   "execution_count": 15,
   "id": "cd33a76a-15b3-488d-b668-d0126d56ae5c",
   "metadata": {},
   "outputs": [
    {
     "name": "stdout",
     "output_type": "stream",
     "text": [
      "Transition event at t = 222591667487636.75 s\n"
     ]
    }
   ],
   "source": [
    "# Integrate\n",
    "t_initial = 1e15 # 3.17 x 10^7 years but integrate from \"now aka zero\" until \"then\"\n",
    "\n",
    "sol_peters = solve_ivp(rhs, [0, t_initial], [e0,a0], method='Radau', events=stop_transition,\n",
    "                rtol=1e-9, atol=1e-12, max_step=1e11)\n",
    "if sol_peters.status == 1 and len(sol_peters.t_events[0])>0:\n",
    "    print(\"Transition event at t =\", sol_peters.t_events[0][0], \"s\")\n",
    "\n",
    "t_arr = sol_peters.t # Entire time array until transition\n",
    "time_to_plunge = abs((t_arr[-1] - t_arr) / yr)\n",
    "\n",
    "e_arr = sol_peters.y[0] # Entire eccentricity array until transition\n",
    "a_arr = sol_peters.y[1] # Entire semi-major axis array until transition\n",
    "t_transition = sol_peters.t[-1] # Final Time at the transition\n",
    "\n",
    "e_transition = sol_peters.y[0, -1] # Final Ecentricity at the transition\n",
    "a_transition = sol_peters.y[1, -1] # Final semimajor axisa t the transition\n"
   ]
  },
  {
   "cell_type": "code",
   "execution_count": 16,
   "id": "8b864c93-8cb9-4ba8-81b4-5927e961d191",
   "metadata": {},
   "outputs": [],
   "source": [
    "nu_0 = nu_naught(a_transition) # Calculate nu initial for PN evolution\n",
    "y0 = [phi_0, nu_0, gamma_0, e_transition] # Initial condition for PN evolution"
   ]
  },
  {
   "cell_type": "code",
   "execution_count": 17,
   "id": "ecf30490-f275-43e2-8669-fb05b40c2c68",
   "metadata": {},
   "outputs": [],
   "source": [
    "sol_pn = solve_ivp(pn_equations, [t_transition, t_initial],\n",
    "                   y0,\n",
    "                   events=stop_plunge, rtol=1e-9, atol=1e-9)"
   ]
  },
  {
   "cell_type": "code",
   "execution_count": 18,
   "id": "c6e95ebd-f019-45e0-925c-4eba03b12bff",
   "metadata": {},
   "outputs": [],
   "source": [
    "def orbital_frequency_keplerian(a): # Returns Hz\n",
    "    f_o = 1/(2*np.pi) * (Mtot/(a**3))**(1/2)\n",
    "    return f_o"
   ]
  },
  {
   "cell_type": "code",
   "execution_count": 19,
   "id": "5a9ba2d3-ed13-40b1-b5c9-2e436177e63e",
   "metadata": {},
   "outputs": [],
   "source": [
    "t_full = np.concatenate((sol_peters.t, sol_pn.t)) # Entire time evolution\n",
    "nu_full = np.concatenate((orbital_frequency_keplerian(sol_peters.y[1]), sol_pn.y[1])) # Entire orbital frequency\n",
    "e_full = np.concatenate((sol_peters.y[0], sol_pn.y[3])) # Entire eccentricity evolution"
   ]
  },
  {
   "cell_type": "code",
   "execution_count": 20,
   "id": "5f4862a1-53ff-4164-bf38-bbe9bc8b67ab",
   "metadata": {},
   "outputs": [
    {
     "data": {
      "image/png": "[encoded data removed]",
      "text/plain": [
       "<Figure size 900x600 with 1 Axes>"
      ]
     },
     "metadata": {},
     "output_type": "display_data"
    }
   ],
   "source": [
    "'''\n",
    "Analyzing the time array that is being given, since it is not constant\n",
    "\n",
    "'''\n",
    "plt.figure(figsize=(9,6))\n",
    "plt.plot(t_full)\n",
    "plt.xlabel(\"Evenly spaced array of time\",fontsize=14)\n",
    "plt.ylabel(\"Time evolved\",fontsize=14)\n",
    "plt.grid(True, which='both', alpha=0.3)\n",
    "plt.show()"
   ]
  },
  {
   "cell_type": "code",
   "execution_count": 21,
   "id": "89242a4a-492b-4497-a768-dc0adc3f9b17",
   "metadata": {},
   "outputs": [],
   "source": [
    "a_full = np.concatenate((\n",
    "    sol_peters.y[1],\n",
    "    (Mbh / (2 * np.pi * sol_pn.y[1])) ** (1/3)\n",
    "))\n"
   ]
  },
  {
   "cell_type": "code",
   "execution_count": 22,
   "id": "2f7ea22c-f765-4b9d-a3dd-fd48e435e38c",
   "metadata": {},
   "outputs": [],
   "source": [
    "time_to_plunge = abs(((t_full[-1] - t_full) / yr))"
   ]
  },
  {
   "cell_type": "code",
   "execution_count": null,
   "id": "b1a777c6-775b-461e-8610-157f17d660bc",
   "metadata": {},
   "outputs": [],
   "source": [
    "'''\n",
    "Shows that with PN equations the evolution of e does approach 0\n",
    "'''\n",
    "\n",
    "plt.figure(figsize=(9,6))\n",
    "plt.plot(time_to_plunge, e_full)\n",
    "plt.xlabel(\"Time to plunge (yr)\")\n",
    "plt.ylabel(\"Eccentricity value\")\n",
    "plt.grid(True, which='both', alpha=0.3)\n",
    "plt.gca().invert_xaxis()\n",
    "plt.show()"
   ]
  },
  {
   "cell_type": "code",
   "execution_count": 31,
   "id": "025ed88e-57cc-4cc7-8129-807c76b51416",
   "metadata": {},
   "outputs": [],
   "source": [
    "f_orb_arr = orbital_frequency_keplerian(a_arr)"
   ]
  },
  {
   "cell_type": "code",
   "execution_count": 33,
   "id": "693a3ae5-0516-40b1-b915-5e2fb57aed0e",
   "metadata": {},
   "outputs": [
    {
     "data": {
      "image/png": "[encoded data removed]",
      "text/plain": [
       "<Figure size 900x600 with 1 Axes>"
      ]
     },
     "metadata": {},
     "output_type": "display_data"
    }
   ],
   "source": [
    "plt.figure(figsize=(9,6))\n",
    "plt.plot(time_to_plunge, nu_full)\n",
    "plt.xlabel(\"Time to plunge [yr]\")\n",
    "plt.ylabel(\"NU (1/s) (log scale)\")\n",
    "plt.title(\"NU Value Integrated Out\")\n",
    "plt.yscale('log')\n",
    "plt.grid(True, which='both', alpha=0.3)\n",
    "plt.gca().invert_xaxis()\n",
    "plt.show()"
   ]
  },
  {
   "cell_type": "code",
   "execution_count": 35,
   "id": "b3b09f9d-ec95-44dd-93c9-bdb3d676ad41",
   "metadata": {},
   "outputs": [],
   "source": [
    "f_plots = np.logspace(-4, -1, 500)"
   ]
  },
  {
   "cell_type": "code",
   "execution_count": null,
   "id": "320a661a-caed-4b5d-82d8-4ef199871408",
   "metadata": {},
   "outputs": [],
   "source": []
  },
  {
   "cell_type": "code",
   "execution_count": 38,
   "id": "544fefd8-fa6a-4ee3-a42c-2604f662fb1d",
   "metadata": {},
   "outputs": [
    {
     "ename": "NameError",
     "evalue": "name 'orbital_frequency' is not defined",
     "output_type": "error",
     "traceback": [
      "\u001b[0;31m---------------------------------------------------------------------------\u001b[0m",
      "\u001b[0;31mNameError\u001b[0m                                 Traceback (most recent call last)",
      "Cell \u001b[0;32mIn[38], line 4\u001b[0m\n\u001b[1;32m      2\u001b[0m f_orbital \u001b[38;5;241m=\u001b[39m  []\n\u001b[1;32m      3\u001b[0m \u001b[38;5;28;01mfor\u001b[39;00m i \u001b[38;5;129;01min\u001b[39;00m \u001b[38;5;28mrange\u001b[39m(\u001b[38;5;241m1000\u001b[39m):\n\u001b[0;32m----> 4\u001b[0m     f_orbital\u001b[38;5;241m.\u001b[39mappend(i\u001b[38;5;241m*\u001b[39morbital_frequency(nu_full, gamma_arr))\n",
      "\u001b[0;31mNameError\u001b[0m: name 'orbital_frequency' is not defined"
     ]
    }
   ],
   "source": [
    "# Orbital Frequency vs Eccentricity\n",
    "'''\n",
    "Need to figure out how to merge pre PN orbital frequency\n",
    "'''\n",
    "f_orbital =  []\n",
    "for i in range(1000):\n",
    "    f_orbital.append(i*orbital_frequency(nu_full, gamma_arr))\n"
   ]
  },
  {
   "cell_type": "code",
   "execution_count": 40,
   "id": "89e08cb4-bf28-4822-8e50-1db33c2f069b",
   "metadata": {},
   "outputs": [
    {
     "ename": "ValueError",
     "evalue": "x and y must have same first dimension, but have shapes (2505,) and (1,)",
     "output_type": "error",
     "traceback": [
      "\u001b[0;31m---------------------------------------------------------------------------\u001b[0m",
      "\u001b[0;31mValueError\u001b[0m                                Traceback (most recent call last)",
      "Cell \u001b[0;32mIn[40], line 4\u001b[0m\n\u001b[1;32m      1\u001b[0m plt\u001b[38;5;241m.\u001b[39mfigure(figsize\u001b[38;5;241m=\u001b[39m(\u001b[38;5;241m10\u001b[39m,\u001b[38;5;241m5\u001b[39m))\n\u001b[1;32m      2\u001b[0m \u001b[38;5;66;03m#for i in range(11):\u001b[39;00m\n\u001b[1;32m      3\u001b[0m     \u001b[38;5;66;03m#plt.plot(e_arr, f_orbital[i], label={i+1})\u001b[39;00m\n\u001b[0;32m----> 4\u001b[0m plt\u001b[38;5;241m.\u001b[39mplot(e_arr, np\u001b[38;5;241m.\u001b[39msum(f_orbital[:\u001b[38;5;241m11\u001b[39m], axis\u001b[38;5;241m=\u001b[39m\u001b[38;5;241m0\u001b[39m), label\u001b[38;5;241m=\u001b[39m\u001b[38;5;124m\"\u001b[39m\u001b[38;5;124mCumulative\u001b[39m\u001b[38;5;124m\"\u001b[39m, color \u001b[38;5;241m=\u001b[39m \u001b[38;5;124m'\u001b[39m\u001b[38;5;124mblack\u001b[39m\u001b[38;5;124m'\u001b[39m)\n\u001b[1;32m      5\u001b[0m plt\u001b[38;5;241m.\u001b[39mxlabel(\u001b[38;5;124m\"\u001b[39m\u001b[38;5;124mEccentricity\u001b[39m\u001b[38;5;124m\"\u001b[39m)\n\u001b[1;32m      6\u001b[0m plt\u001b[38;5;241m.\u001b[39mylabel(\u001b[38;5;124m\"\u001b[39m\u001b[38;5;124mF-robital (Hz) - Using Nu integrated out\u001b[39m\u001b[38;5;124m\"\u001b[39m)\n",
      "File \u001b[0;32m/opt/anaconda3/lib/python3.12/site-packages/matplotlib/pyplot.py:3590\u001b[0m, in \u001b[0;36mplot\u001b[0;34m(scalex, scaley, data, *args, **kwargs)\u001b[0m\n\u001b[1;32m   3582\u001b[0m \u001b[38;5;129m@_copy_docstring_and_deprecators\u001b[39m(Axes\u001b[38;5;241m.\u001b[39mplot)\n\u001b[1;32m   3583\u001b[0m \u001b[38;5;28;01mdef\u001b[39;00m \u001b[38;5;21mplot\u001b[39m(\n\u001b[1;32m   3584\u001b[0m     \u001b[38;5;241m*\u001b[39margs: \u001b[38;5;28mfloat\u001b[39m \u001b[38;5;241m|\u001b[39m ArrayLike \u001b[38;5;241m|\u001b[39m \u001b[38;5;28mstr\u001b[39m,\n\u001b[0;32m   (...)\u001b[0m\n\u001b[1;32m   3588\u001b[0m     \u001b[38;5;241m*\u001b[39m\u001b[38;5;241m*\u001b[39mkwargs,\n\u001b[1;32m   3589\u001b[0m ) \u001b[38;5;241m-\u001b[39m\u001b[38;5;241m>\u001b[39m \u001b[38;5;28mlist\u001b[39m[Line2D]:\n\u001b[0;32m-> 3590\u001b[0m     \u001b[38;5;28;01mreturn\u001b[39;00m gca()\u001b[38;5;241m.\u001b[39mplot(\n\u001b[1;32m   3591\u001b[0m         \u001b[38;5;241m*\u001b[39margs,\n\u001b[1;32m   3592\u001b[0m         scalex\u001b[38;5;241m=\u001b[39mscalex,\n\u001b[1;32m   3593\u001b[0m         scaley\u001b[38;5;241m=\u001b[39mscaley,\n\u001b[1;32m   3594\u001b[0m         \u001b[38;5;241m*\u001b[39m\u001b[38;5;241m*\u001b[39m({\u001b[38;5;124m\"\u001b[39m\u001b[38;5;124mdata\u001b[39m\u001b[38;5;124m\"\u001b[39m: data} \u001b[38;5;28;01mif\u001b[39;00m data \u001b[38;5;129;01mis\u001b[39;00m \u001b[38;5;129;01mnot\u001b[39;00m \u001b[38;5;28;01mNone\u001b[39;00m \u001b[38;5;28;01melse\u001b[39;00m {}),\n\u001b[1;32m   3595\u001b[0m         \u001b[38;5;241m*\u001b[39m\u001b[38;5;241m*\u001b[39mkwargs,\n\u001b[1;32m   3596\u001b[0m     )\n",
      "File \u001b[0;32m/opt/anaconda3/lib/python3.12/site-packages/matplotlib/axes/_axes.py:1724\u001b[0m, in \u001b[0;36mAxes.plot\u001b[0;34m(self, scalex, scaley, data, *args, **kwargs)\u001b[0m\n\u001b[1;32m   1481\u001b[0m \u001b[38;5;250m\u001b[39m\u001b[38;5;124;03m\"\"\"\u001b[39;00m\n\u001b[1;32m   1482\u001b[0m \u001b[38;5;124;03mPlot y versus x as lines and/or markers.\u001b[39;00m\n\u001b[1;32m   1483\u001b[0m \n\u001b[0;32m   (...)\u001b[0m\n\u001b[1;32m   1721\u001b[0m \u001b[38;5;124;03m(``'green'``) or hex strings (``'#008000'``).\u001b[39;00m\n\u001b[1;32m   1722\u001b[0m \u001b[38;5;124;03m\"\"\"\u001b[39;00m\n\u001b[1;32m   1723\u001b[0m kwargs \u001b[38;5;241m=\u001b[39m cbook\u001b[38;5;241m.\u001b[39mnormalize_kwargs(kwargs, mlines\u001b[38;5;241m.\u001b[39mLine2D)\n\u001b[0;32m-> 1724\u001b[0m lines \u001b[38;5;241m=\u001b[39m [\u001b[38;5;241m*\u001b[39m\u001b[38;5;28mself\u001b[39m\u001b[38;5;241m.\u001b[39m_get_lines(\u001b[38;5;28mself\u001b[39m, \u001b[38;5;241m*\u001b[39margs, data\u001b[38;5;241m=\u001b[39mdata, \u001b[38;5;241m*\u001b[39m\u001b[38;5;241m*\u001b[39mkwargs)]\n\u001b[1;32m   1725\u001b[0m \u001b[38;5;28;01mfor\u001b[39;00m line \u001b[38;5;129;01min\u001b[39;00m lines:\n\u001b[1;32m   1726\u001b[0m     \u001b[38;5;28mself\u001b[39m\u001b[38;5;241m.\u001b[39madd_line(line)\n",
      "File \u001b[0;32m/opt/anaconda3/lib/python3.12/site-packages/matplotlib/axes/_base.py:303\u001b[0m, in \u001b[0;36m_process_plot_var_args.__call__\u001b[0;34m(self, axes, data, *args, **kwargs)\u001b[0m\n\u001b[1;32m    301\u001b[0m     this \u001b[38;5;241m+\u001b[39m\u001b[38;5;241m=\u001b[39m args[\u001b[38;5;241m0\u001b[39m],\n\u001b[1;32m    302\u001b[0m     args \u001b[38;5;241m=\u001b[39m args[\u001b[38;5;241m1\u001b[39m:]\n\u001b[0;32m--> 303\u001b[0m \u001b[38;5;28;01myield from\u001b[39;00m \u001b[38;5;28mself\u001b[39m\u001b[38;5;241m.\u001b[39m_plot_args(\n\u001b[1;32m    304\u001b[0m     axes, this, kwargs, ambiguous_fmt_datakey\u001b[38;5;241m=\u001b[39mambiguous_fmt_datakey)\n",
      "File \u001b[0;32m/opt/anaconda3/lib/python3.12/site-packages/matplotlib/axes/_base.py:499\u001b[0m, in \u001b[0;36m_process_plot_var_args._plot_args\u001b[0;34m(self, axes, tup, kwargs, return_kwargs, ambiguous_fmt_datakey)\u001b[0m\n\u001b[1;32m    496\u001b[0m     axes\u001b[38;5;241m.\u001b[39myaxis\u001b[38;5;241m.\u001b[39mupdate_units(y)\n\u001b[1;32m    498\u001b[0m \u001b[38;5;28;01mif\u001b[39;00m x\u001b[38;5;241m.\u001b[39mshape[\u001b[38;5;241m0\u001b[39m] \u001b[38;5;241m!=\u001b[39m y\u001b[38;5;241m.\u001b[39mshape[\u001b[38;5;241m0\u001b[39m]:\n\u001b[0;32m--> 499\u001b[0m     \u001b[38;5;28;01mraise\u001b[39;00m \u001b[38;5;167;01mValueError\u001b[39;00m(\u001b[38;5;124mf\u001b[39m\u001b[38;5;124m\"\u001b[39m\u001b[38;5;124mx and y must have same first dimension, but \u001b[39m\u001b[38;5;124m\"\u001b[39m\n\u001b[1;32m    500\u001b[0m                      \u001b[38;5;124mf\u001b[39m\u001b[38;5;124m\"\u001b[39m\u001b[38;5;124mhave shapes \u001b[39m\u001b[38;5;132;01m{\u001b[39;00mx\u001b[38;5;241m.\u001b[39mshape\u001b[38;5;132;01m}\u001b[39;00m\u001b[38;5;124m and \u001b[39m\u001b[38;5;132;01m{\u001b[39;00my\u001b[38;5;241m.\u001b[39mshape\u001b[38;5;132;01m}\u001b[39;00m\u001b[38;5;124m\"\u001b[39m)\n\u001b[1;32m    501\u001b[0m \u001b[38;5;28;01mif\u001b[39;00m x\u001b[38;5;241m.\u001b[39mndim \u001b[38;5;241m>\u001b[39m \u001b[38;5;241m2\u001b[39m \u001b[38;5;129;01mor\u001b[39;00m y\u001b[38;5;241m.\u001b[39mndim \u001b[38;5;241m>\u001b[39m \u001b[38;5;241m2\u001b[39m:\n\u001b[1;32m    502\u001b[0m     \u001b[38;5;28;01mraise\u001b[39;00m \u001b[38;5;167;01mValueError\u001b[39;00m(\u001b[38;5;124mf\u001b[39m\u001b[38;5;124m\"\u001b[39m\u001b[38;5;124mx and y can be no greater than 2D, but have \u001b[39m\u001b[38;5;124m\"\u001b[39m\n\u001b[1;32m    503\u001b[0m                      \u001b[38;5;124mf\u001b[39m\u001b[38;5;124m\"\u001b[39m\u001b[38;5;124mshapes \u001b[39m\u001b[38;5;132;01m{\u001b[39;00mx\u001b[38;5;241m.\u001b[39mshape\u001b[38;5;132;01m}\u001b[39;00m\u001b[38;5;124m and \u001b[39m\u001b[38;5;132;01m{\u001b[39;00my\u001b[38;5;241m.\u001b[39mshape\u001b[38;5;132;01m}\u001b[39;00m\u001b[38;5;124m\"\u001b[39m)\n",
      "\u001b[0;31mValueError\u001b[0m: x and y must have same first dimension, but have shapes (2505,) and (1,)"
     ]
    },
    {
     "data": {
      "image/png": "[encoded data removed]",
      "text/plain": [
       "<Figure size 1000x500 with 1 Axes>"
      ]
     },
     "metadata": {},
     "output_type": "display_data"
    }
   ],
   "source": [
    "plt.figure(figsize=(10,5))\n",
    "#for i in range(11):\n",
    "    #plt.plot(e_arr, f_orbital[i], label={i+1})\n",
    "plt.plot(e_arr, np.sum(f_orbital[:11], axis=0), label=\"Cumulative\", color = 'black')\n",
    "plt.xlabel(\"Eccentricity\")\n",
    "plt.ylabel(\"F-robital (Hz) - Using Nu integrated out\")\n",
    "#plt.yscale('log')\n",
    "plt.title(\"Frequency (Hz) vs Eccentricity plot- NU integrated out\")\n",
    "plt.legend()\n",
    "#plt.gca().invert_xaxis()\n",
    "plt.grid(True)\n",
    "plt.show()"
   ]
  },
  {
   "cell_type": "code",
   "execution_count": 44,
   "id": "29cb4cb1-348e-41ba-8b8f-560e0d05f2db",
   "metadata": {},
   "outputs": [],
   "source": [
    "# All units in seconds returns unitless quantity\n",
    "def h_c_n(n, a, e): \n",
    "    return g_n_e(n, e) * Mbh* m / (D * a)"
   ]
  },
  {
   "cell_type": "code",
   "execution_count": 46,
   "id": "2e4c270e-79ae-4542-9ab9-5c5b6fa643ef",
   "metadata": {},
   "outputs": [],
   "source": [
    "h_c_n_arr = []\n",
    "for i in range(1000):\n",
    "    h_c_n_arr.append(h_c_n(i+1, a_arr, e_arr))"
   ]
  },
  {
   "cell_type": "code",
   "execution_count": 47,
   "id": "5a2a53df-dd5c-4a80-8417-e0595edffddd",
   "metadata": {},
   "outputs": [
    {
     "ename": "ValueError",
     "evalue": "x and y must have same first dimension, but have shapes (2656,) and (2505,)",
     "output_type": "error",
     "traceback": [
      "\u001b[0;31m---------------------------------------------------------------------------\u001b[0m",
      "\u001b[0;31mValueError\u001b[0m                                Traceback (most recent call last)",
      "Cell \u001b[0;32mIn[47], line 4\u001b[0m\n\u001b[1;32m      1\u001b[0m plt\u001b[38;5;241m.\u001b[39mfigure(figsize\u001b[38;5;241m=\u001b[39m(\u001b[38;5;241m10\u001b[39m,\u001b[38;5;241m5\u001b[39m))\n\u001b[1;32m      2\u001b[0m \u001b[38;5;66;03m#for i in range(1000):\u001b[39;00m\n\u001b[1;32m      3\u001b[0m \u001b[38;5;66;03m#    plt.plot(time_to_plunge, h_c_n_arr[i])#, label={i+1})\u001b[39;00m\n\u001b[0;32m----> 4\u001b[0m plt\u001b[38;5;241m.\u001b[39mplot(time_to_plunge, np\u001b[38;5;241m.\u001b[39msum(h_c_n_arr[:\u001b[38;5;241m1000\u001b[39m], axis\u001b[38;5;241m=\u001b[39m\u001b[38;5;241m0\u001b[39m), label\u001b[38;5;241m=\u001b[39m\u001b[38;5;124m\"\u001b[39m\u001b[38;5;124mCumulative\u001b[39m\u001b[38;5;124m\"\u001b[39m, color \u001b[38;5;241m=\u001b[39m \u001b[38;5;124m'\u001b[39m\u001b[38;5;124mblack\u001b[39m\u001b[38;5;124m'\u001b[39m)\n\u001b[1;32m      5\u001b[0m plt\u001b[38;5;241m.\u001b[39myscale(\u001b[38;5;124m'\u001b[39m\u001b[38;5;124mlog\u001b[39m\u001b[38;5;124m'\u001b[39m)\n\u001b[1;32m      6\u001b[0m plt\u001b[38;5;241m.\u001b[39mxlabel(\u001b[38;5;124m\"\u001b[39m\u001b[38;5;124mTime to Plunge (yr)\u001b[39m\u001b[38;5;124m\"\u001b[39m)\n",
      "File \u001b[0;32m/opt/anaconda3/lib/python3.12/site-packages/matplotlib/pyplot.py:3590\u001b[0m, in \u001b[0;36mplot\u001b[0;34m(scalex, scaley, data, *args, **kwargs)\u001b[0m\n\u001b[1;32m   3582\u001b[0m \u001b[38;5;129m@_copy_docstring_and_deprecators\u001b[39m(Axes\u001b[38;5;241m.\u001b[39mplot)\n\u001b[1;32m   3583\u001b[0m \u001b[38;5;28;01mdef\u001b[39;00m \u001b[38;5;21mplot\u001b[39m(\n\u001b[1;32m   3584\u001b[0m     \u001b[38;5;241m*\u001b[39margs: \u001b[38;5;28mfloat\u001b[39m \u001b[38;5;241m|\u001b[39m ArrayLike \u001b[38;5;241m|\u001b[39m \u001b[38;5;28mstr\u001b[39m,\n\u001b[0;32m   (...)\u001b[0m\n\u001b[1;32m   3588\u001b[0m     \u001b[38;5;241m*\u001b[39m\u001b[38;5;241m*\u001b[39mkwargs,\n\u001b[1;32m   3589\u001b[0m ) \u001b[38;5;241m-\u001b[39m\u001b[38;5;241m>\u001b[39m \u001b[38;5;28mlist\u001b[39m[Line2D]:\n\u001b[0;32m-> 3590\u001b[0m     \u001b[38;5;28;01mreturn\u001b[39;00m gca()\u001b[38;5;241m.\u001b[39mplot(\n\u001b[1;32m   3591\u001b[0m         \u001b[38;5;241m*\u001b[39margs,\n\u001b[1;32m   3592\u001b[0m         scalex\u001b[38;5;241m=\u001b[39mscalex,\n\u001b[1;32m   3593\u001b[0m         scaley\u001b[38;5;241m=\u001b[39mscaley,\n\u001b[1;32m   3594\u001b[0m         \u001b[38;5;241m*\u001b[39m\u001b[38;5;241m*\u001b[39m({\u001b[38;5;124m\"\u001b[39m\u001b[38;5;124mdata\u001b[39m\u001b[38;5;124m\"\u001b[39m: data} \u001b[38;5;28;01mif\u001b[39;00m data \u001b[38;5;129;01mis\u001b[39;00m \u001b[38;5;129;01mnot\u001b[39;00m \u001b[38;5;28;01mNone\u001b[39;00m \u001b[38;5;28;01melse\u001b[39;00m {}),\n\u001b[1;32m   3595\u001b[0m         \u001b[38;5;241m*\u001b[39m\u001b[38;5;241m*\u001b[39mkwargs,\n\u001b[1;32m   3596\u001b[0m     )\n",
      "File \u001b[0;32m/opt/anaconda3/lib/python3.12/site-packages/matplotlib/axes/_axes.py:1724\u001b[0m, in \u001b[0;36mAxes.plot\u001b[0;34m(self, scalex, scaley, data, *args, **kwargs)\u001b[0m\n\u001b[1;32m   1481\u001b[0m \u001b[38;5;250m\u001b[39m\u001b[38;5;124;03m\"\"\"\u001b[39;00m\n\u001b[1;32m   1482\u001b[0m \u001b[38;5;124;03mPlot y versus x as lines and/or markers.\u001b[39;00m\n\u001b[1;32m   1483\u001b[0m \n\u001b[0;32m   (...)\u001b[0m\n\u001b[1;32m   1721\u001b[0m \u001b[38;5;124;03m(``'green'``) or hex strings (``'#008000'``).\u001b[39;00m\n\u001b[1;32m   1722\u001b[0m \u001b[38;5;124;03m\"\"\"\u001b[39;00m\n\u001b[1;32m   1723\u001b[0m kwargs \u001b[38;5;241m=\u001b[39m cbook\u001b[38;5;241m.\u001b[39mnormalize_kwargs(kwargs, mlines\u001b[38;5;241m.\u001b[39mLine2D)\n\u001b[0;32m-> 1724\u001b[0m lines \u001b[38;5;241m=\u001b[39m [\u001b[38;5;241m*\u001b[39m\u001b[38;5;28mself\u001b[39m\u001b[38;5;241m.\u001b[39m_get_lines(\u001b[38;5;28mself\u001b[39m, \u001b[38;5;241m*\u001b[39margs, data\u001b[38;5;241m=\u001b[39mdata, \u001b[38;5;241m*\u001b[39m\u001b[38;5;241m*\u001b[39mkwargs)]\n\u001b[1;32m   1725\u001b[0m \u001b[38;5;28;01mfor\u001b[39;00m line \u001b[38;5;129;01min\u001b[39;00m lines:\n\u001b[1;32m   1726\u001b[0m     \u001b[38;5;28mself\u001b[39m\u001b[38;5;241m.\u001b[39madd_line(line)\n",
      "File \u001b[0;32m/opt/anaconda3/lib/python3.12/site-packages/matplotlib/axes/_base.py:303\u001b[0m, in \u001b[0;36m_process_plot_var_args.__call__\u001b[0;34m(self, axes, data, *args, **kwargs)\u001b[0m\n\u001b[1;32m    301\u001b[0m     this \u001b[38;5;241m+\u001b[39m\u001b[38;5;241m=\u001b[39m args[\u001b[38;5;241m0\u001b[39m],\n\u001b[1;32m    302\u001b[0m     args \u001b[38;5;241m=\u001b[39m args[\u001b[38;5;241m1\u001b[39m:]\n\u001b[0;32m--> 303\u001b[0m \u001b[38;5;28;01myield from\u001b[39;00m \u001b[38;5;28mself\u001b[39m\u001b[38;5;241m.\u001b[39m_plot_args(\n\u001b[1;32m    304\u001b[0m     axes, this, kwargs, ambiguous_fmt_datakey\u001b[38;5;241m=\u001b[39mambiguous_fmt_datakey)\n",
      "File \u001b[0;32m/opt/anaconda3/lib/python3.12/site-packages/matplotlib/axes/_base.py:499\u001b[0m, in \u001b[0;36m_process_plot_var_args._plot_args\u001b[0;34m(self, axes, tup, kwargs, return_kwargs, ambiguous_fmt_datakey)\u001b[0m\n\u001b[1;32m    496\u001b[0m     axes\u001b[38;5;241m.\u001b[39myaxis\u001b[38;5;241m.\u001b[39mupdate_units(y)\n\u001b[1;32m    498\u001b[0m \u001b[38;5;28;01mif\u001b[39;00m x\u001b[38;5;241m.\u001b[39mshape[\u001b[38;5;241m0\u001b[39m] \u001b[38;5;241m!=\u001b[39m y\u001b[38;5;241m.\u001b[39mshape[\u001b[38;5;241m0\u001b[39m]:\n\u001b[0;32m--> 499\u001b[0m     \u001b[38;5;28;01mraise\u001b[39;00m \u001b[38;5;167;01mValueError\u001b[39;00m(\u001b[38;5;124mf\u001b[39m\u001b[38;5;124m\"\u001b[39m\u001b[38;5;124mx and y must have same first dimension, but \u001b[39m\u001b[38;5;124m\"\u001b[39m\n\u001b[1;32m    500\u001b[0m                      \u001b[38;5;124mf\u001b[39m\u001b[38;5;124m\"\u001b[39m\u001b[38;5;124mhave shapes \u001b[39m\u001b[38;5;132;01m{\u001b[39;00mx\u001b[38;5;241m.\u001b[39mshape\u001b[38;5;132;01m}\u001b[39;00m\u001b[38;5;124m and \u001b[39m\u001b[38;5;132;01m{\u001b[39;00my\u001b[38;5;241m.\u001b[39mshape\u001b[38;5;132;01m}\u001b[39;00m\u001b[38;5;124m\"\u001b[39m)\n\u001b[1;32m    501\u001b[0m \u001b[38;5;28;01mif\u001b[39;00m x\u001b[38;5;241m.\u001b[39mndim \u001b[38;5;241m>\u001b[39m \u001b[38;5;241m2\u001b[39m \u001b[38;5;129;01mor\u001b[39;00m y\u001b[38;5;241m.\u001b[39mndim \u001b[38;5;241m>\u001b[39m \u001b[38;5;241m2\u001b[39m:\n\u001b[1;32m    502\u001b[0m     \u001b[38;5;28;01mraise\u001b[39;00m \u001b[38;5;167;01mValueError\u001b[39;00m(\u001b[38;5;124mf\u001b[39m\u001b[38;5;124m\"\u001b[39m\u001b[38;5;124mx and y can be no greater than 2D, but have \u001b[39m\u001b[38;5;124m\"\u001b[39m\n\u001b[1;32m    503\u001b[0m                      \u001b[38;5;124mf\u001b[39m\u001b[38;5;124m\"\u001b[39m\u001b[38;5;124mshapes \u001b[39m\u001b[38;5;132;01m{\u001b[39;00mx\u001b[38;5;241m.\u001b[39mshape\u001b[38;5;132;01m}\u001b[39;00m\u001b[38;5;124m and \u001b[39m\u001b[38;5;132;01m{\u001b[39;00my\u001b[38;5;241m.\u001b[39mshape\u001b[38;5;132;01m}\u001b[39;00m\u001b[38;5;124m\"\u001b[39m)\n",
      "\u001b[0;31mValueError\u001b[0m: x and y must have same first dimension, but have shapes (2656,) and (2505,)"
     ]
    },
    {
     "data": {
      "image/png": "[encoded data removed]",
      "text/plain": [
       "<Figure size 1000x500 with 1 Axes>"
      ]
     },
     "metadata": {},
     "output_type": "display_data"
    }
   ],
   "source": [
    "plt.figure(figsize=(10,5))\n",
    "#for i in range(1000):\n",
    "#    plt.plot(time_to_plunge, h_c_n_arr[i])#, label={i+1})\n",
    "plt.plot(time_to_plunge, np.sum(h_c_n_arr[:1000], axis=0), label=\"Cumulative\", color = 'black')\n",
    "plt.yscale('log')\n",
    "plt.xlabel(\"Time to Plunge (yr)\")\n",
    "plt.ylabel(\"Characteristic Strain (log scale unitless)\")\n",
    "plt.gca().invert_xaxis()\n",
    "plt.title(\"Characteristic Strain $H_n$\")\n",
    "plt.legend()\n",
    "plt.grid(True)\n",
    "plt.show()"
   ]
  },
  {
   "cell_type": "code",
   "execution_count": null,
   "id": "8fb4c3ae-da69-4ff6-86be-15f8ca38318b",
   "metadata": {},
   "outputs": [],
   "source": [
    "plt.figure(figsize=(10,5))\n",
    "#for i in range(1000):\n",
    "    #plt.plot(f_plots, h_c_n_arr[i], label={i+1})\n",
    "plt.loglog(f_plots, np.sum(h_c_n_arr[:1000], axis=0), label=\"Cumulative\", color = 'black')\n",
    "plt.loglog(f_plots, np.sqrt(S_FEW), color = 'blue', label = 'FEW Waveform')\n",
    "#plt.yscale('log')\n",
    "plt.xlabel(\"Frequency (Hz)\")\n",
    "plt.ylabel(\"Characteristic Strain (log scale unitless)\")\n",
    "#plt.gca().invert_xaxis()\n",
    "plt.title(\"Characteristic Strain $H_n$\")\n",
    "plt.legend()\n",
    "plt.grid(True)\n",
    "plt.show()"
   ]
  },
  {
   "cell_type": "code",
   "execution_count": 51,
   "id": "3031bfca-d266-466e-92db-96b13b72c36d",
   "metadata": {},
   "outputs": [],
   "source": [
    "n_harmonics = 1"
   ]
  },
  {
   "cell_type": "code",
   "execution_count": 53,
   "id": "f92cfbe6-5e44-40f1-8838-ca83fe9f7e2c",
   "metadata": {},
   "outputs": [],
   "source": [
    "def SN_FEW(f):\n",
    "    return get_sensitivity(f)\n"
   ]
  },
  {
   "cell_type": "code",
   "execution_count": 55,
   "id": "cfad0692-1d96-4989-b680-b5d41972f519",
   "metadata": {},
   "outputs": [],
   "source": [
    "S_FEW = SN_FEW(f_plots)"
   ]
  },
  {
   "cell_type": "code",
   "execution_count": 65,
   "id": "07444a48-7a6f-418e-8b0d-882a4db25649",
   "metadata": {},
   "outputs": [],
   "source": [
    "snr_of_n_of_t = np.zeros((n_harmonics, len(t_uniform)))"
   ]
  },
  {
   "cell_type": "code",
   "execution_count": 67,
   "id": "92255ff0-d27e-4ba2-81ff-5e7410f9755f",
   "metadata": {},
   "outputs": [],
   "source": [
    "from scipy.interpolate import interp1d"
   ]
  },
  {
   "cell_type": "code",
   "execution_count": 76,
   "id": "f2ea69de-d551-4766-bcc0-ea035b1092c1",
   "metadata": {},
   "outputs": [
    {
     "name": "stdout",
     "output_type": "stream",
     "text": [
      "7054\n"
     ]
    }
   ],
   "source": [
    "t_uniform = np.arange(t_full[0], t_full[-1],1000* yr)\n",
    "print(t_uniform.size)\n",
    "\n",
    "# Interpolate all parameters onto it\n",
    "a_uniform = interp1d(t_full, a_full, kind='linear')(t_uniform)\n",
    "e_uniform = interp1d(t_full, e_full, kind='linear')(t_uniform)\n",
    "nu_uniform = interp1d(t_full, nu_full, kind='linear')(t_uniform)\n"
   ]
  },
  {
   "cell_type": "code",
   "execution_count": 78,
   "id": "d1b0ac4e-5ce4-4652-a6e0-fa8093fa4d33",
   "metadata": {},
   "outputs": [],
   "source": [
    "n_bins = len(t_uniform) - 1   # ~ number of years\n",
    "\n",
    "for n in range(n_harmonics):\n",
    "    for i in range(n_bins):\n",
    "        start = i\n",
    "        end = i + 1  # one-year step\n",
    "        f_n = (n+1) * nu_uniform[start:end+1]\n",
    "        hcn = h_c_n(n+1, a_uniform[start:end+1], e_uniform[start:end+1])\n",
    "        h_det = np.sqrt(SN_FEW(f_n))\n",
    "        integrand = (hcn / h_det)**2 / np.maximum(f_n, 1e-30)\n",
    "        snr_of_n_of_t[n, i] = np.trapz(integrand, f_n)"
   ]
  },
  {
   "cell_type": "code",
   "execution_count": null,
   "id": "7ed0567d-8de5-4894-91e2-32149bbfee86",
   "metadata": {},
   "outputs": [],
   "source": [
    "\n",
    "\n",
    "n_bins = len(t_uniform) - 1\n",
    "\n",
    "for n in range(n_harmonics):\n",
    "    for i, t0 in enumerate(t_uniform):\n",
    "        mask = (t_uniform >= t0) & (t_uniform <= t0 + yr)\n",
    "        \n",
    "        t_0_arr = t_uniform[mask]\n",
    "        a_0_arr = a_uniform[mask]\n",
    "        e_0_arr = e_uniform[mask]\n",
    "        \n",
    "        f_n = (n+1)*nu_uniform[mask]\n",
    "       \n",
    "        hcn = h_c_n(n+1, a_0_arr, e_0_arr)\n",
    "        h_det = np.sqrt(SN_FEW(f_n))\n",
    "        integrand = (hcn/h_det)**2/f_n\n",
    "        snr_of_n_of_t[n, i] = np.trapz(integrand, f_n)"
   ]
  },
  {
   "cell_type": "code",
   "execution_count": 94,
   "id": "413a5a67-00d0-4138-b38e-4e5b05fb739f",
   "metadata": {},
   "outputs": [
    {
     "data": {
      "image/png": "[encoded data removed]",
      "text/plain": [
       "<Figure size 1000x500 with 1 Axes>"
      ]
     },
     "metadata": {},
     "output_type": "display_data"
    }
   ],
   "source": [
    "plt.figure(figsize=(10,5))\n",
    "#for i in range(1000):\n",
    "    #plt.plot(f_plots, h_c_n_arr[i], label={i+1})\n",
    "plt.plot(np.linspace(0, 10^7, 7053505), np.sum(snr_of_n_of_t[:1000], axis=0), label=\"Cumulative\", color = 'black')\n",
    "#plt.loglog(np.logspace(-5, 0, 2656), np.sqrt(S_FEW), color = 'blue', label = 'FEW Waveform')\n",
    "#plt.yscale('log')\n",
    "plt.xlabel(\"Time to Plunge (yr)\")\n",
    "plt.ylabel(\"SNR\")\n",
    "plt.gca().invert_xaxis()\n",
    "plt.title(\"SNR over time\")\n",
    "plt.legend()\n",
    "plt.grid(True)\n",
    "plt.show()"
   ]
  },
  {
   "cell_type": "code",
   "execution_count": 173,
   "id": "d9f4157f-c9f4-4590-af68-68c1a41de4bc",
   "metadata": {},
   "outputs": [
    {
     "name": "stdout",
     "output_type": "stream",
     "text": [
      "Orbital frequency:\n",
      " min: 7.564e-09 Hz, max: 6.471e-01 Hz\n"
     ]
    }
   ],
   "source": [
    "# Check orbital frequency\n",
    "print(\"Orbital frequency:\")\n",
    "print(f\" min: {np.min(nu_full):.3e} Hz, max: {np.max(nu_full):.3e} Hz\")\n"
   ]
  },
  {
   "cell_type": "code",
   "execution_count": 542,
   "id": "7009ca04-7863-44a0-9c41-d4d77e653994",
   "metadata": {},
   "outputs": [
    {
     "name": "stdout",
     "output_type": "stream",
     "text": [
      "Characteristic strain h_c_n:\n",
      " min: 9.270e-25, max: 5.225e-22\n"
     ]
    }
   ],
   "source": [
    "# Check magnitude of characteristic strain\n",
    "n_test = 1\n",
    "hcn_test = h_c_n(n_test, a_arr, e_arr)\n",
    "print(\"Characteristic strain h_c_n:\")\n",
    "print(f\" min: {np.min(hcn_test):.3e}, max: {np.max(hcn_test):.3e}\")\n"
   ]
  },
  {
   "cell_type": "code",
   "execution_count": 544,
   "id": "6cc3a229-af47-4248-b723-3c45f7da737d",
   "metadata": {},
   "outputs": [
    {
     "name": "stdout",
     "output_type": "stream",
     "text": [
      "Detector h_det:\n",
      " min: 2.474e-17, max: 5.341e-13\n"
     ]
    }
   ],
   "source": [
    "h_det_test = np.sqrt(SN_FEW(f_orb))\n",
    "print(\"Detector h_det:\")\n",
    "print(f\" min: {np.min(h_det_test):.3e}, max: {np.max(h_det_test):.3e}\")\n"
   ]
  },
  {
   "cell_type": "code",
   "execution_count": 546,
   "id": "86ffa553-c1dc-42b6-9174-bba35b33cbd7",
   "metadata": {},
   "outputs": [
    {
     "name": "stdout",
     "output_type": "stream",
     "text": [
      "Integrand stats:\n",
      " min: 3.982e-16, max: 3.131e-06, mean: 2.347e-08\n"
     ]
    }
   ],
   "source": [
    "integrand_test = (hcn_test / h_det_test)**2 / f_orb\n",
    "print(\"Integrand stats:\")\n",
    "print(f\" min: {np.min(integrand_test):.3e}, max: {np.max(integrand_test):.3e}, mean: {np.mean(integrand_test):.3e}\")\n"
   ]
  },
  {
   "cell_type": "code",
   "execution_count": 548,
   "id": "93d40a61-74f5-48b0-a3bc-b4ad32be0f9e",
   "metadata": {},
   "outputs": [
    {
     "name": "stdout",
     "output_type": "stream",
     "text": [
      "SNR for harmonic n=1: 7.531e-11\n"
     ]
    }
   ],
   "source": [
    "snr_test = np.trapz(integrand_test, f_orb)\n",
    "print(f\"SNR for harmonic n={n_test}: {snr_test:.3e}\")\n"
   ]
  },
  {
   "cell_type": "code",
   "execution_count": null,
   "id": "4074c90a-c879-41e5-aa4a-de395a57974f",
   "metadata": {},
   "outputs": [],
   "source": []
  }
 ],
 "metadata": {
  "kernelspec": {
   "display_name": "Python 3 (ipykernel)",
   "language": "python",
   "name": "python3"
  },
  "language_info": {
   "codemirror_mode": {
    "name": "ipython",
    "version": 3
   },
   "file_extension": ".py",
   "mimetype": "text/x-python",
   "name": "python",
   "nbconvert_exporter": "python",
   "pygments_lexer": "ipython3",
   "version": "3.12.4"
  }
 },
 "nbformat": 4,
 "nbformat_minor": 5
}
